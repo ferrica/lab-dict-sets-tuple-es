{
 "cells": [
  {
   "cell_type": "markdown",
   "metadata": {},
   "source": [
    "## Desafío 1: Tuplas\n",
    "\n",
    "#### ¿Sabías que puedes crear tuplas con solo un elemento?\n",
    "\n",
    "**En la celda de abajo, define una variable `tup` con un único elemento `\"I\"`.**"
   ]
  },
  {
   "cell_type": "code",
   "execution_count": 33,
   "metadata": {},
   "outputs": [],
   "source": [
    "tup = (\"I\",) # Definimos la tupla\n"
   ]
  },
  {
   "cell_type": "markdown",
   "metadata": {},
   "source": [
    "#### Imprime el tipo de `tup`.\n",
    "\n",
    "Asegúrate de que su tipo sea correcto (es decir, *tuple* en lugar de *str*)."
   ]
  },
  {
   "cell_type": "code",
   "execution_count": 20,
   "metadata": {},
   "outputs": [
    {
     "name": "stdout",
     "output_type": "stream",
     "text": [
      "<class 'tuple'>\n"
     ]
    }
   ],
   "source": [
    "print(type(tup))  # Imprimimos el tipo de 'tup'"
   ]
  },
  {
   "cell_type": "markdown",
   "metadata": {},
   "source": [
    "#### Ahora intenta agregar los siguientes elementos a `tup`.\n",
    "\n",
    "¿Puedes hacerlo? Explica.\n",
    "\n",
    "```\n",
    "\"r\", \"o\", \"n\", \"h\", \"a\", \"c\", \"k',\n",
    "```"
   ]
  },
  {
   "cell_type": "code",
   "execution_count": 3,
   "metadata": {
    "scrolled": true
   },
   "outputs": [
    {
     "name": "stdout",
     "output_type": "stream",
     "text": [
      "('I', 'r', 'o', 'n', 'h', 'a', 'c', 'k')\n"
     ]
    }
   ],
   "source": [
    "tup_nueva = (\"r\", \"o\", \"n\", \"h\", \"a\", \"c\", \"k\") # entrada dada\n",
    "tup = tup + tup_nueva  # Se crea una nueva tupla combinada\n",
    "print(tup)  # Resultado: ('I', 'r', 'o', 'n', 'h', 'a', 'c', 'k')\n",
    "\n",
    "# No se puede crear una nueva tupla porque es inmutable. Podemos combinar la que hay con la nueva y hacer el truco de que sea en el nombre anterior."
   ]
  },
  {
   "cell_type": "markdown",
   "metadata": {},
   "source": [
    "#### ¿Qué tal si reasignas un nuevo valor a una tupla existente?\n",
    "\n",
    "Reasigna los siguientes elementos a `tup`. ¿Puedes hacerlo? Explica.\n",
    "\n",
    "```\n",
    "\"I\", \"r\", \"o\", \"n\", \"h\", \"a\", \"c\", \"k\"\n",
    "```"
   ]
  },
  {
   "cell_type": "code",
   "execution_count": 7,
   "metadata": {},
   "outputs": [
    {
     "name": "stdout",
     "output_type": "stream",
     "text": [
      "('I', 'r', 'o', 'n', 'h', 'a', 'c', 'k')\n"
     ]
    }
   ],
   "source": [
    "tup = (\"I\", \"r\", \"o\", \"n\", \"h\", \"a\", \"c\", \"k\")  # Reasignación\n",
    "print(tup)  # Resultado: ('I', 'r', 'o', 'n', 'h', 'a', 'c', 'k')\n",
    "\n",
    "# entiendo que la tup original sigue en memoria, su valor, el \"I,\" pero el puntero de la variable tup ya no la apunta."
   ]
  },
  {
   "cell_type": "markdown",
   "metadata": {},
   "source": [
    "#### Divide `tup` en `tup1` y `tup2` con 4 elementos en cada una.\n",
    "\n",
    "`tup1` debe ser `(\"I\", \"r\", \"o\", \"n\")` y `tup2` debe ser `(\"h\", \"a\", \"c\", \"k\")`.\n",
    "\n",
    "*Sugerencia: usa números de índice positivos para la asignación de `tup1` y números de índice negativos para la asignación de `tup2`. Los números de índice positivos cuentan desde el principio, mientras que los números de índice negativos cuentan desde el final de la secuencia.*\n",
    "\n",
    "También imprime `tup1` y `tup2`."
   ]
  },
  {
   "cell_type": "code",
   "execution_count": 8,
   "metadata": {},
   "outputs": [
    {
     "name": "stdout",
     "output_type": "stream",
     "text": [
      "tup1: ('I', 'r', 'o', 'n')\n",
      "tup2: ('h', 'a', 'c', 'k')\n"
     ]
    }
   ],
   "source": [
    "# Nos sugieren usar índices\n",
    "tup1 = tup[:4]  # Usando índices positivos: del inicio hasta el índice 4 (sin incluirlo)\n",
    "tup2 = tup[-4:]  # Usando índices negativos: desde el cuarto elemento desde el final hasta el final\n",
    "\n",
    "# Imprimir las nuevas tuplas\n",
    "print(\"tup1:\", tup1)  \n",
    "print(\"tup2:\", tup2)  \n"
   ]
  },
  {
   "cell_type": "markdown",
   "metadata": {},
   "source": [
    "#### Suma `tup1` y `tup2` en `tup3` usando el operador `+`.\n",
    "\n",
    "Luego imprime `tup3` y verifica si `tup3` es igual a `tup`."
   ]
  },
  {
   "cell_type": "code",
   "execution_count": 12,
   "metadata": {},
   "outputs": [
    {
     "name": "stdout",
     "output_type": "stream",
     "text": [
      "tup3: ('I', 'r', 'o', 'n', 'h', 'a', 'c', 'k')\n",
      "¿La cadena tup3 es igual a tup? True\n"
     ]
    }
   ],
   "source": [
    "tup3 = tup1 + tup2\n",
    "\n",
    "# Imprimir tup3\n",
    "print(\"tup3:\", tup3)\n",
    "\n",
    "# Verificar si tup3 es igual a tup\n",
    "tup = (\"I\", \"r\", \"o\", \"n\", \"h\", \"a\", \"c\", \"k\")  # Tupla original\n",
    "\n",
    "print(\"¿La cadena tup3 es igual a tup?\", tup3 == tup)\n",
    "\n"
   ]
  },
  {
   "cell_type": "markdown",
   "metadata": {},
   "source": [
    "#### Cuenta el número de elementos en `tup1` y `tup2`. Luego suma los dos conteos y verifica si la suma es igual al número de elementos en `tup3`."
   ]
  },
  {
   "cell_type": "code",
   "execution_count": 11,
   "metadata": {},
   "outputs": [
    {
     "name": "stdout",
     "output_type": "stream",
     "text": [
      "¿La longitud total es igual a la suma de las cadenas? True\n"
     ]
    }
   ],
   "source": [
    "tup1_len = len(tup1)\n",
    "tup2_len = len(tup2)\n",
    "\n",
    "total_len = tup1_len + tup2_len\n",
    "\n",
    "print(\"¿La longitud total es igual a la suma de las cadenas?\", total_len == (tup1_len + tup2_len))\n"
   ]
  },
  {
   "cell_type": "markdown",
   "metadata": {},
   "source": [
    "#### ¿Cuál es el número de índice de `\"h\"` en `tup3`?"
   ]
  },
  {
   "cell_type": "code",
   "execution_count": 13,
   "metadata": {},
   "outputs": [
    {
     "name": "stdout",
     "output_type": "stream",
     "text": [
      "El número de índice de la letra 'h' en tup3 es: 4\n"
     ]
    }
   ],
   "source": [
    "index_h = tup3.index(\"h\") # Encontramos ínidece de \"h\"\n",
    "print(\"El número de índice de la letra 'h' en tup3 es:\", index_h)"
   ]
  },
  {
   "cell_type": "markdown",
   "metadata": {},
   "source": [
    "#### Ahora, usa un bucle FOR para verificar si cada letra en la siguiente lista está presente en `tup3`:\n",
    "\n",
    "\n",
    "```\n",
    "letters = [\"a\", \"b\", \"c\", \"d\", \"e\"]\n",
    "```\n",
    "\n",
    "\n",
    "Para cada letra que verifiques, imprime `True` si está presente en `tup3`, de lo contrario imprime `False`.\n",
    "\n",
    "*Sugerencia: solo necesitas hacer un bucle con `letters`. No necesitas hacer un bucle con `tup3` porque hay un operador de Python `in` que puedes usar. Consulta la [referencia](https://stackoverflow.com/questions/17920147/how-to-check-if-a-tuple-contains-an-element-in-python).*"
   ]
  },
  {
   "cell_type": "code",
   "execution_count": 16,
   "metadata": {},
   "outputs": [],
   "source": [
    "letters  = [\"a\", \"b\", \"c\", \"d\", \"e\"]\n",
    "\n",
    "\n",
    "\n",
    "    "
   ]
  },
  {
   "cell_type": "code",
   "execution_count": 17,
   "metadata": {},
   "outputs": [
    {
     "name": "stdout",
     "output_type": "stream",
     "text": [
      "True\n",
      "False\n",
      "True\n",
      "False\n",
      "False\n"
     ]
    }
   ],
   "source": [
    "# Tu codígo aquí# Bucle verificación de si cada elemento de letters está en la tupla\n",
    "for letter in letters: #recorre cada elemento de letters\n",
    "    print(letter in tup3)  # Imprime True si la letra está en tup3, False en caso contrario"
   ]
  },
  {
   "cell_type": "markdown",
   "metadata": {},
   "source": [
    "#### ¿Cuántas veces aparece cada letra de `letters` en `tup3`?\n",
    "\n",
    "Imprime el número de ocurrencias de cada letra."
   ]
  },
  {
   "cell_type": "code",
   "execution_count": 19,
   "metadata": {},
   "outputs": [
    {
     "name": "stdout",
     "output_type": "stream",
     "text": [
      "La letra 'a' aparece 1 veces en tup3.\n",
      "La letra 'b' aparece 0 veces en tup3.\n",
      "La letra 'c' aparece 1 veces en tup3.\n",
      "La letra 'd' aparece 0 veces en tup3.\n",
      "La letra 'e' aparece 0 veces en tup3.\n"
     ]
    }
   ],
   "source": [
    "for letter in letters: # buclr para contar las apariciones de cada letra en tup3\n",
    "    count = tup3.count(letter)  # Contar las apariciones de la letra en tup3\n",
    "    print(f\"La letra '{letter}' aparece {count} veces en tup3.\")"
   ]
  },
  {
   "cell_type": "markdown",
   "metadata": {},
   "source": [
    "## Desafío 2: Conjuntos\n",
    "\n",
    "Hay mucho que aprender sobre los Conjuntos en Python y la información presentada en la lección es limitada debido a su longitud. Para aprender a fondo sobre los Conjuntos en Python, te recomendamos encarecidamente que revises el tutorial de W3Schools sobre [Ejemplos y Métodos de Conjuntos en Python](https://www.w3schools.com/python/python_sets.asp) antes de trabajar en este laboratorio. Algunas preguntas difíciles de este laboratorio tienen sus soluciones en el tutorial de W3Schools.\n",
    "\n",
    "#### Primero, importa la biblioteca `random` de Python."
   ]
  },
  {
   "cell_type": "code",
   "execution_count": 21,
   "metadata": {},
   "outputs": [],
   "source": [
    "import random"
   ]
  },
  {
   "cell_type": "markdown",
   "metadata": {},
   "source": [
    "#### En la celda de abajo, crea una lista llamada `sample_list_1` con 80 valores aleatorios.\n",
    "\n",
    "Requisitos:\n",
    "\n",
    "* Cada valor es un entero entre 0 y 100.\n",
    "* Cada valor en la lista es único.\n",
    "\n",
    "Imprime `sample_list_1` para revisar sus valores.\n",
    "\n",
    "*Sugerencia: usa `random.sample` ([referencia](https://docs.python.org/3/library/random.html#random.sample)).*"
   ]
  },
  {
   "cell_type": "code",
   "execution_count": 22,
   "metadata": {},
   "outputs": [
    {
     "name": "stdout",
     "output_type": "stream",
     "text": [
      "sample_list_1: [53, 3, 19, 73, 20, 44, 48, 83, 7, 28, 32, 71, 35, 61, 37, 6, 67, 43, 64, 80, 55, 97, 54, 17, 27, 23, 2, 57, 40, 66, 38, 93, 47, 16, 92, 22, 30, 100, 87, 88, 9, 46, 65, 41, 56, 75, 4, 0, 59, 72, 78, 33, 42, 94, 15, 39, 62, 36, 69, 81, 34, 77, 21, 50, 26, 11, 95, 63, 89, 24, 76, 10, 29, 85, 25, 84, 70, 45, 31, 1]\n"
     ]
    }
   ],
   "source": [
    "sample_list_1 = random.sample(range(0, 101), 80) # lista con 80 valores aleatorios y únicos entre 0 y 100 https://docs.python.org/3/library/random.html#random.sample\n",
    "\n",
    "# Imprimir la lista generada\n",
    "print(\"sample_list_1:\", sample_list_1)\n"
   ]
  },
  {
   "cell_type": "markdown",
   "metadata": {},
   "source": [
    "#### Convierte `sample_list_1` en un conjunto llamado `set1`. Imprime la longitud del conjunto. ¿Su longitud sigue siendo 80?"
   ]
  },
  {
   "cell_type": "code",
   "execution_count": 26,
   "metadata": {},
   "outputs": [
    {
     "name": "stdout",
     "output_type": "stream",
     "text": [
      "Longitud de la variable conjunto 'set1': 80  caracteres.\n"
     ]
    }
   ],
   "source": [
    "set1 = set(sample_list_1)\n",
    "\n",
    "print(\"Longitud de la variable conjunto 'set1':\", len(set1), \" caracteres.\")\n",
    "\n",
    "\n"
   ]
  },
  {
   "cell_type": "markdown",
   "metadata": {},
   "source": [
    "#### Crea otra lista llamada `sample_list_2` con 80 valores aleatorios.\n",
    "\n",
    "Requisitos:\n",
    "\n",
    "* Cada valor es un entero entre 0 y 100.\n",
    "* Los valores en la lista no tienen que ser únicos.\n",
    "\n",
    "*Sugerencia: Usa un bucle FOR.*"
   ]
  },
  {
   "cell_type": "code",
   "execution_count": 27,
   "metadata": {},
   "outputs": [
    {
     "name": "stdout",
     "output_type": "stream",
     "text": [
      "sample_list_2: [95, 52, 64, 8, 41, 48, 81, 10, 93, 83, 73, 37, 34, 15, 26, 27, 26, 65, 10, 90, 27, 69, 52, 7, 58, 17, 10, 90, 32, 81, 46, 55, 23, 77, 96, 54, 16, 77, 66, 56, 20, 82, 21, 32, 90, 18, 47, 81, 6, 7, 80, 40, 25, 37, 2, 32, 29, 100, 45, 62, 30, 100, 74, 2, 29, 67, 91, 96, 60, 100, 40, 5, 90, 16, 70, 92, 16, 71, 44, 45]\n"
     ]
    }
   ],
   "source": [
    "# Creamos lista\n",
    "sample_list_2 = []\n",
    "\n",
    "# Generar 80 números aleatorios, NO necesariamente únicos y añadirlos a la lista\n",
    "for _ in range(80):\n",
    "    random_number = random.randint(0, 100)  # número aleatorio entre 0 y 100\n",
    "    sample_list_2.append(random_number)  # Añadir el número a la lista\n",
    "\n",
    "# Imprimir la lista generada\n",
    "print(\"sample_list_2:\", sample_list_2)"
   ]
  },
  {
   "cell_type": "markdown",
   "metadata": {},
   "source": [
    "#### Convierte `sample_list_2` en un conjunto llamado `set2`. Imprime la longitud del conjunto. ¿Su longitud sigue siendo 80?"
   ]
  },
  {
   "cell_type": "code",
   "execution_count": 32,
   "metadata": {},
   "outputs": [
    {
     "name": "stdout",
     "output_type": "stream",
     "text": [
      "Longitud de set2: 56  caracteres.\n",
      "¿La longitud total de 'set2' es igual a 80 caracteres? False\n"
     ]
    }
   ],
   "source": [
    "# tu codigo aquí# Convertir sample_list_2 en un conjunto\n",
    "set2 = set(sample_list_2)\n",
    "set2_len = len(set2)\n",
    "\n",
    "# Imprimir la longitud del conjunto\n",
    "print(\"Longitud de set2:\", set2_len, \" caracteres.\")\n",
    "\n",
    "print(\"¿La longitud total de 'set2' es igual a 80 caracteres?\", set2_len == 80)"
   ]
  },
  {
   "cell_type": "markdown",
   "metadata": {},
   "source": [
    "#### Identifica los elementos presentes en `set1` pero no en `set2`. Asigna los elementos a un nuevo conjunto llamado `set3`."
   ]
  },
  {
   "cell_type": "code",
   "execution_count": 35,
   "metadata": {},
   "outputs": [
    {
     "name": "stdout",
     "output_type": "stream",
     "text": [
      "Elementos en 'set1' pero no en 'set2' (es dcir, los lementos de 'set3'): {0, 1, 3, 4, 9, 11, 19, 22, 24, 28, 31, 33, 35, 36, 38, 39, 42, 43, 50, 53, 57, 59, 61, 63, 72, 75, 76, 78, 84, 85, 87, 88, 89, 94, 97}\n"
     ]
    }
   ],
   "source": [
    "set3 = set1 - set2  # DEterminamos la diferencia\n",
    "\n",
    "print(\"Elementos en 'set1' pero no en 'set2' (es dcir, los lementos de 'set3'):\", set3) # sacamos por pantalla\n",
    "\n"
   ]
  },
  {
   "cell_type": "markdown",
   "metadata": {},
   "source": [
    "#### Identifica los elementos presentes en `set2` pero no en `set1`. Asigna los elementos a un nuevo conjunto llamado `set4`."
   ]
  },
  {
   "cell_type": "code",
   "execution_count": 37,
   "metadata": {},
   "outputs": [
    {
     "name": "stdout",
     "output_type": "stream",
     "text": [
      "Elementos en 'set2' pero no en 'set1' (es dcir, los lementos de 'set4'): {96, 5, 90, 8, 74, 18, 82, 52, 58, 91, 60}\n"
     ]
    }
   ],
   "source": [
    "set4 = set2 - set1\n",
    "\n",
    "print(\"Elementos en 'set2' pero no en 'set1' (es dcir, los lementos de 'set4'):\", set4) # sacamos por pantalla\n"
   ]
  },
  {
   "cell_type": "markdown",
   "metadata": {},
   "source": [
    "#### Ahora identifica los elementos compartidos entre `set1` y `set2`. Asigna los elementos a un nuevo conjunto llamado `set5`."
   ]
  },
  {
   "cell_type": "code",
   "execution_count": 38,
   "metadata": {},
   "outputs": [
    {
     "name": "stdout",
     "output_type": "stream",
     "text": [
      "Elementos en 'set1' Y en 'set2' (es dcir, los lementos de 'set5'): {2, 6, 7, 10, 15, 16, 17, 20, 21, 23, 25, 26, 27, 29, 30, 32, 34, 37, 40, 41, 44, 45, 46, 47, 48, 54, 55, 56, 62, 64, 65, 66, 67, 69, 70, 71, 73, 77, 80, 81, 83, 92, 93, 95, 100}\n"
     ]
    }
   ],
   "source": [
    "set5 = set1 & set2  # Intersección de conjuntos\n",
    "\n",
    "print(\"Elementos en 'set1' Y en 'set2' (es dcir, los lementos de 'set5'):\", set5) # sacamos por pantalla"
   ]
  },
  {
   "cell_type": "markdown",
   "metadata": {},
   "source": [
    "#### ¿Cuál es la relación entre los siguientes valores?\n",
    "\n",
    "* len(set1)\n",
    "* len(set2)\n",
    "* len(set3)\n",
    "* len(set4)\n",
    "* len(set5)\n",
    "\n",
    "Usa una fórmula matemática para representar esa relación. Prueba tu fórmula con código Python."
   ]
  },
  {
   "cell_type": "code",
   "execution_count": 51,
   "metadata": {},
   "outputs": [
    {
     "name": "stdout",
     "output_type": "stream",
     "text": [
      "Longitud de set1: 80\n",
      "Longitud de set2: 56\n",
      "Longitud de set3: 35\n",
      "Longitud de set4: 11\n",
      "Longitud de set5: 45\n",
      "¿tamaño de 'set1' = tamaño de 'set3' + tamaño de 'set5'?: 80 = 35 + 45 -> True\n",
      "¿tamaño de 'set2' = (tamaño de 'set5' + la cantidad de elementos únicos en 'set2'?): 56 = 45 + 11 -> True\n",
      "¿tamaño de 'set4' = tamaño de 'set1' + tamaño de 'set2' - tamaño de 'set5'?: 11 = 80 + 56 - 45 -> False\n"
     ]
    }
   ],
   "source": [
    "# Longitudes de cada conjunto\n",
    "set1_len = len(set1)\n",
    "set2_len = len(set2)\n",
    "set3_len = len(set3)\n",
    "set4_len = len(set4)\n",
    "set5_len = len(set5)\n",
    "\n",
    "print(f\"Longitud de set1: {set1_len}\")\n",
    "print(f\"Longitud de set2: {set2_len}\")\n",
    "print(f\"Longitud de set3: {set3_len}\")\n",
    "print(f\"Longitud de set4: {set4_len}\")\n",
    "print(f\"Longitud de set5: {set5_len}\")\n",
    "\n",
    "# Relación 1: len(set1) = len(set3) + len(set5)\n",
    "print(f\"¿tamaño de 'set1' = tamaño de 'set3' + tamaño de 'set5'?: {set1_len} = {set3_len} + {set5_len} -> {set1_len == set3_len + set5_len}\")\n",
    "\n",
    "# Relación 2: len(set2) = (len(set5) + elementos únicos en set2)\n",
    "unique_in_set2 = set2_len - set5_len\n",
    "print(f\"¿tamaño de 'set2' = (tamaño de 'set5' + la cantidad de elementos únicos en 'set2'?): {set2_len} = {set5_len} + {unique_in_set2} -> {set2_len == set5_len + unique_in_set2}\")\n",
    "\n",
    "# Relación 3: len(set4) = len(set1) + len(set2) - len(set5)\n",
    "calculated_len_set4 = set1_len + set2_len - set5_len\n",
    "print(f\"¿tamaño de 'set4' = tamaño de 'set1' + tamaño de 'set2' - tamaño de 'set5'?: {set4_len} = {set1_len} + {set2_len} - {set5_len} -> {set4_len == calculated_len_set4}\")\n",
    "\n",
    "\n"
   ]
  },
  {
   "cell_type": "markdown",
   "metadata": {},
   "source": [
    "#### Crea un conjunto vacío llamado `set6`."
   ]
  },
  {
   "cell_type": "code",
   "execution_count": 53,
   "metadata": {},
   "outputs": [
    {
     "name": "stdout",
     "output_type": "stream",
     "text": [
      "set6: set()\n"
     ]
    }
   ],
   "source": [
    "\n",
    "set6 =set()\n",
    "print(\"set6:\", set6)\n"
   ]
  },
  {
   "cell_type": "markdown",
   "metadata": {},
   "source": [
    "#### Añade `set3` y `set5` a `set6` usando el método `update` de los Conjuntos de Python."
   ]
  },
  {
   "cell_type": "code",
   "execution_count": 55,
   "metadata": {},
   "outputs": [
    {
     "name": "stdout",
     "output_type": "stream",
     "text": [
      "'set6' después de añadirle 'set3' y 'set5': {0, 1, 2, 3, 4, 6, 7, 9, 10, 11, 15, 16, 17, 19, 20, 21, 22, 23, 24, 25, 26, 27, 28, 29, 30, 31, 32, 33, 34, 35, 36, 37, 38, 39, 40, 41, 42, 43, 44, 45, 46, 47, 48, 50, 53, 54, 55, 56, 57, 59, 61, 62, 63, 64, 65, 66, 67, 69, 70, 71, 72, 73, 75, 76, 77, 78, 80, 81, 83, 84, 85, 87, 88, 89, 92, 93, 94, 95, 97, 100}\n"
     ]
    }
   ],
   "source": [
    "# Incluimos los elementos de set3 y set5 a set6\n",
    "set6.update(set3)\n",
    "set6.update(set5)\n",
    "\n",
    "# comprobamos la operación\n",
    "print(\"'set6' después de añadirle 'set3' y 'set5':\", set6)\n",
    "\n",
    "\n"
   ]
  },
  {
   "cell_type": "markdown",
   "metadata": {},
   "source": [
    "#### Verifica si `set1` y `set6` son iguales."
   ]
  },
  {
   "cell_type": "code",
   "execution_count": 56,
   "metadata": {},
   "outputs": [
    {
     "name": "stdout",
     "output_type": "stream",
     "text": [
      "¿set1 y set6 son iguales? True\n"
     ]
    }
   ],
   "source": [
    "print(\"¿set1 y set6 son iguales?\", set1 == set6)"
   ]
  },
  {
   "cell_type": "markdown",
   "metadata": {},
   "source": [
    "#### Comprueba si `set1` contiene a `set2` utilizando el método `issubset` de los Conjuntos de Python. Luego verifica si `set1` contiene a `set3`."
   ]
  },
  {
   "cell_type": "code",
   "execution_count": 58,
   "metadata": {},
   "outputs": [
    {
     "name": "stdout",
     "output_type": "stream",
     "text": [
      "¿'set2' está contenido en 'set1'? False\n",
      "¿'set3' está contenido en 'set1'? True\n"
     ]
    }
   ],
   "source": [
    "# Verificar la inclusión de los conjuntos\n",
    "is_set2_in_set1 = set2.issubset(set1)\n",
    "\n",
    "is_set3_in_set1 = set3.issubset(set1)\n",
    "\n",
    "#salida de resultados\n",
    "print(\"¿'set2' está contenido en 'set1'?\", is_set2_in_set1)\n",
    "print(\"¿'set3' está contenido en 'set1'?\", is_set3_in_set1)"
   ]
  },
  {
   "cell_type": "markdown",
   "metadata": {},
   "source": [
    "#### Utilizando el método `union` de los Conjuntos de Python, agrega `set3`, `set4` y `set5`. Luego agrega `set1` y `set2`.\n",
    "\n",
    "#### Verifica si los valores agregados son iguales."
   ]
  },
  {
   "cell_type": "code",
   "execution_count": 59,
   "metadata": {},
   "outputs": [
    {
     "name": "stdout",
     "output_type": "stream",
     "text": [
      "Conjunto resultado después de agregar set3, set4, y set5: {0, 1, 2, 3, 4, 5, 6, 7, 8, 9, 10, 11, 15, 16, 17, 18, 19, 20, 21, 22, 23, 24, 25, 26, 27, 28, 29, 30, 31, 32, 33, 34, 35, 36, 37, 38, 39, 40, 41, 42, 43, 44, 45, 46, 47, 48, 50, 52, 53, 54, 55, 56, 57, 58, 59, 60, 61, 62, 63, 64, 65, 66, 67, 69, 70, 71, 72, 73, 74, 75, 76, 77, 78, 80, 81, 82, 83, 84, 85, 87, 88, 89, 90, 91, 92, 93, 94, 95, 96, 97, 100}\n",
      "Conjunto resultado después de agregar set1 y set2: {0, 1, 2, 3, 4, 5, 6, 7, 8, 9, 10, 11, 15, 16, 17, 18, 19, 20, 21, 22, 23, 24, 25, 26, 27, 28, 29, 30, 31, 32, 33, 34, 35, 36, 37, 38, 39, 40, 41, 42, 43, 44, 45, 46, 47, 48, 50, 52, 53, 54, 55, 56, 57, 58, 59, 60, 61, 62, 63, 64, 65, 66, 67, 69, 70, 71, 72, 73, 74, 75, 76, 77, 78, 80, 81, 82, 83, 84, 85, 87, 88, 89, 90, 91, 92, 93, 94, 95, 96, 97, 100}\n",
      "¿Los valores agregados son iguales? True\n"
     ]
    }
   ],
   "source": [
    "# Usamos union para combinar conjuntos\n",
    "union_set1 = set3.union(set4, set5)\n",
    "\n",
    "union_set2 = union_set1.union(set1, set2)\n",
    "\n",
    "# Verificar si los valores en ambos conjuntos son iguales\n",
    "are_values_equal = union_set1 == union_set2\n",
    "\n",
    "# Imprimir los resultados\n",
    "print(\"Conjunto resultado después de agregar set3, set4, y set5:\", union_set1)\n",
    "print(\"Conjunto resultado después de agregar set1 y set2:\", union_set2)\n",
    "print(\"¿Los valores agregados son iguales?\", are_values_equal)\n"
   ]
  },
  {
   "cell_type": "markdown",
   "metadata": {},
   "source": [
    "#### Utilizando el método `pop`, elimina el primer elemento de `set1`."
   ]
  },
  {
   "cell_type": "code",
   "execution_count": 60,
   "metadata": {},
   "outputs": [
    {
     "name": "stdout",
     "output_type": "stream",
     "text": [
      "Elemento eliminado: 0\n",
      "'set1' después de pop (retirada del 1er elemento): {1, 2, 3, 4, 6, 7, 9, 10, 11, 15, 16, 17, 19, 20, 21, 22, 23, 24, 25, 26, 27, 28, 29, 30, 31, 32, 33, 34, 35, 36, 37, 38, 39, 40, 41, 42, 43, 44, 45, 46, 47, 48, 50, 53, 54, 55, 56, 57, 59, 61, 62, 63, 64, 65, 66, 67, 69, 70, 71, 72, 73, 75, 76, 77, 78, 80, 81, 83, 84, 85, 87, 88, 89, 92, 93, 94, 95, 97, 100}\n"
     ]
    }
   ],
   "source": [
    "# quitmaos el primer elemento\n",
    "primer_elemento = set1.pop()\n",
    "\n",
    "# Imprimir el elemento eliminado y el conjunto actualizado\n",
    "print(\"Elemento eliminado:\", primer_elemento)\n",
    "print(\"'set1' después de pop (retirada del 1er elemento):\", set1)"
   ]
  },
  {
   "cell_type": "markdown",
   "metadata": {},
   "source": [
    "#### Elimina cada elemento en la siguiente lista de `set1` si están presentes en el conjunto. Imprime los elementos restantes.\n",
    "\n",
    "```\n",
    "list_to_remove = [1, 9, 11, 19, 21, 29, 31, 39, 41, 49, 51, 59, 61, 69, 71, 79, 81, 89, 91, 99]\n",
    "```"
   ]
  },
  {
   "cell_type": "code",
   "execution_count": 61,
   "metadata": {},
   "outputs": [
    {
     "name": "stdout",
     "output_type": "stream",
     "text": [
      "Elementos restantes en 'set1': {2, 3, 4, 6, 7, 10, 15, 16, 17, 20, 22, 23, 24, 25, 26, 27, 28, 30, 32, 33, 34, 35, 36, 37, 38, 40, 42, 43, 44, 45, 46, 47, 48, 50, 53, 54, 55, 56, 57, 62, 63, 64, 65, 66, 67, 70, 72, 73, 75, 76, 77, 78, 80, 83, 84, 85, 87, 88, 92, 93, 94, 95, 97, 100}\n"
     ]
    }
   ],
   "source": [
    "lista_elementos = [1, 9, 11, 19, 21, 29, 31, 39, 41, 49, 51, 59, 61, 69, 71, 79, 81, 89, 91, 99]\n",
    "\n",
    "# Eliminar cada elemento de list_to_remove de set1 si está presente\n",
    "for elemento in lista_elementos:\n",
    "    set1.discard(elemento)  # Usar discard para evitar errores si el elemento no está presente\n",
    "\n",
    "# Imprimir los elementos restantes en set1\n",
    "print(\"Elementos restantes en 'set1':\", set1)"
   ]
  },
  {
   "cell_type": "markdown",
   "metadata": {},
   "source": [
    "## BONUS - Desafío 3: Diccionarios\n",
    "\n",
    "En este desafío practicarás cómo manipular diccionarios en Python. Antes de empezar este desafío, te animamos a revisar los [Ejemplos y Métodos de Diccionarios en Python](https://www.w3schools.com/python/python_dictionaries.asp) de W3School.\n",
    "\n",
    "Lo primero que practicarás es cómo ordenar las claves en un diccionario. A diferencia del objeto de lista, el diccionario de Python no tiene un método *sort* incorporado. Necesitarás usar bucles FOR para ordenar los diccionarios ya sea por clave o por valor.\n",
    "\n",
    "El diccionario a continuación es un resumen de la frecuencia de palabras de la canción *Shape of You* de Ed Sheeran. Cada clave es una palabra en la letra y el valor es el número de veces que esa palabra aparece en la letra."
   ]
  },
  {
   "cell_type": "code",
   "execution_count": 62,
   "metadata": {},
   "outputs": [],
   "source": [
    "word_freq = {'love': 25, 'conversation': 1, 'every': 6, \"we're\": 1, 'plate': 1, 'sour': 1, 'jukebox': 1, 'now': 11, 'taxi': 1, 'fast': 1, 'bag': 1, 'man': 1, 'push': 3, 'baby': 14, 'going': 1, 'you': 16, \"don't\": 2, 'one': 1, 'mind': 2, 'backseat': 1, 'friends': 1, 'then': 3, 'know': 2, 'take': 1, 'play': 1, 'okay': 1, 'so': 2, 'begin': 1, 'start': 2, 'over': 1, 'body': 17, 'boy': 2, 'just': 1, 'we': 7, 'are': 1, 'girl': 2, 'tell': 1, 'singing': 2, 'drinking': 1, 'put': 3, 'our': 1, 'where': 1, \"i'll\": 1, 'all': 1, \"isn't\": 1, 'make': 1, 'lover': 1, 'get': 1, 'radio': 1, 'give': 1, \"i'm\": 23, 'like': 10, 'can': 1, 'doing': 2, 'with': 22, 'club': 1, 'come': 37, 'it': 1, 'somebody': 2, 'handmade': 2, 'out': 1, 'new': 6, 'room': 3, 'chance': 1, 'follow': 6, 'in': 27, 'may': 2, 'brand': 6, 'that': 2, 'magnet': 3, 'up': 3, 'first': 1, 'and': 23, 'pull': 3, 'of': 6, 'table': 1, 'much': 2, 'last': 3, 'i': 6, 'thrifty': 1, 'grab': 2, 'was': 2, 'driver': 1, 'slow': 1, 'dance': 1, 'the': 18, 'say': 2, 'trust': 1, 'family': 1, 'week': 1, 'date': 1, 'me': 10, 'do': 3, 'waist': 2, 'smell': 3, 'day': 6, 'although': 3, 'your': 21, 'leave': 1, 'want': 2, \"let's\": 2, 'lead': 6, 'at': 1, 'hand': 1, 'how': 1, 'talk': 4, 'not': 2, 'eat': 1, 'falling': 3, 'about': 1, 'story': 1, 'sweet': 1, 'best': 1, 'crazy': 2, 'let': 1, 'too': 5, 'van': 1, 'shots': 1, 'go': 2, 'to': 2, 'a': 8, 'my': 33, 'is': 5, 'place': 1, 'find': 1, 'shape': 6, 'on': 40, 'kiss': 1, 'were': 3, 'night': 3, 'heart': 3, 'for': 3, 'discovering': 6, 'something': 6, 'be': 16, 'bedsheets': 3, 'fill': 2, 'hours': 2, 'stop': 1, 'bar': 1}"
   ]
  },
  {
   "cell_type": "markdown",
   "metadata": {},
   "source": [
    "#### Ordena las claves de `word_freq` de forma ascendente.\n",
    "\n",
    "Por favor, crea un nuevo diccionario llamado `word_freq2` basado en `word_freq` con las claves ordenadas de forma ascendente.\n",
    "\n",
    "Hay varias formas de lograr ese objetivo, pero muchas de ellas van más allá de lo que hemos cubierto hasta ahora en el curso. Hay una forma que describiremos empleando lo que has aprendido. Por favor, siéntete libre de usar esta forma o cualquier otra que desees.\n",
    "\n",
    "1. Primero extrae las claves de `word_freq` y conviértelas en una lista llamada `keys`.\n",
    "\n",
    "1. Ordena la lista `keys`.\n",
    "\n",
    "1. Crea un diccionario vacío `word_freq2`.\n",
    "\n",
    "1. Usa un bucle FOR para iterar cada valor en `keys`. Para cada clave iterada, encuentra el valor correspondiente en `word_freq` e inserta el par clave-valor en `word_freq2`.\n",
    "\n",
    "📖 [Documentación para un bucle for](https://docs.python.org/3/reference/compound_stmts.html#for)\n",
    "\n",
    "Imprime `word_freq2` para examinar sus claves y valores. Tu salida debería ser:\n",
    "\n",
    "```python\n",
    "{'a': 8, 'about': 1, 'all': 1, 'although': 3, 'and': 23, 'are': 1, 'at': 1, 'baby': 14, 'backseat': 1, 'bag': 1, 'bar': 1, 'be': 16, 'bedsheets': 3, 'begin': 1, 'best': 1, 'body': 17, 'boy': 2, 'brand': 6, 'can': 1, 'chance': 1, 'club': 1, 'come': 37, 'conversation': 1, 'crazy': 2, 'dance': 1, 'date': 1, 'day': 6, 'discovering': 6, 'do': 3, 'doing': 2, \"don't\": 2, 'drinking': 1, 'driver': 1, 'eat': 1, 'every': 6, 'falling': 3, 'family': 1, 'fast': 1, 'fill': 2, 'find': 1, 'first': 1, 'follow': 6, 'for': 3, 'friends': 1, 'get': 1, 'girl': 2, 'give': 1, 'go': 2, 'going': 1, 'grab': 2, 'hand': 1, 'handmade': 2, 'heart': 3, 'hours': 2, 'how': 1, 'i': 6, \"i'll\": 1, \"i'm\": 23, 'in': 27, 'is': 5, \"isn't\": 1, 'it': 1, 'jukebox': 1, 'just': 1, 'kiss': 1, 'know': 2, 'last': 3, 'lead': 6, 'leave': 1, 'let': 1, \"let's\": 2, 'like': 10, 'love': 25, 'lover': 1, 'magnet': 3, 'make': 1, 'man': 1, 'may': 2, 'me': 10, 'mind': 2, 'much': 2, 'my': 33, 'new': 6, 'night': 3, 'not': 2, 'now': 11, 'of': 6, 'okay': 1, 'on': 40, 'one': 1, 'our': 1, 'out': 1, 'over': 1, 'place': 1, 'plate': 1, 'play': 1, 'pull': 3, 'push': 3, 'put': 3, 'radio': 1, 'room': 3, 'say': 2, 'shape': 6, 'shots': 1, 'singing': 2, 'slow': 1, 'smell': 3, 'so': 2, 'somebody': 2, 'something': 6, 'sour': 1, 'start': 2, 'stop': 1, 'story': 1, 'sweet': 1, 'table': 1, 'take': 1, 'talk': 4, 'taxi': 1, 'tell': 1, 'that': 2, 'the': 18, 'then': 3, 'thrifty': 1, 'to': 2, 'too': 5, 'trust': 1, 'up': 3, 'van': 1, 'waist': 2, 'want': 2, 'was': 2, 'we': 7, \"we're\": 1, 'week': 1, 'were': 3, 'where': 1, 'with': 22, 'you': 16, 'your': 21}\n",
    "```"
   ]
  },
  {
   "cell_type": "code",
   "execution_count": 70,
   "metadata": {},
   "outputs": [
    {
     "name": "stdout",
     "output_type": "stream",
     "text": [
      "Diccionario ordenado por clave (word_freq2):\n",
      "{'a': 8, 'about': 1, 'all': 1, 'although': 3, 'and': 23, 'are': 1, 'at': 1, 'baby': 14, 'backseat': 1, 'bag': 1, 'bar': 1, 'be': 16, 'bedsheets': 3, 'begin': 1, 'best': 1, 'body': 17, 'boy': 2, 'brand': 6, 'can': 1, 'chance': 1, 'club': 1, 'come': 37, 'conversation': 1, 'crazy': 2, 'dance': 1, 'date': 1, 'day': 6, 'discovering': 6, 'do': 3, 'doing': 2, \"don't\": 2, 'drinking': 1, 'driver': 1, 'eat': 1, 'every': 6, 'falling': 3, 'family': 1, 'fast': 1, 'fill': 2, 'find': 1, 'first': 1, 'follow': 6, 'for': 3, 'friends': 1, 'get': 1, 'girl': 2, 'give': 1, 'go': 2, 'going': 1, 'grab': 2, 'hand': 1, 'handmade': 2, 'heart': 3, 'hours': 2, 'how': 1, 'i': 6, \"i'll\": 1, \"i'm\": 23, 'in': 27, 'is': 5, \"isn't\": 1, 'it': 1, 'jukebox': 1, 'just': 1, 'kiss': 1, 'know': 2, 'last': 3, 'lead': 6, 'leave': 1, 'let': 1, \"let's\": 2, 'like': 10, 'love': 25, 'lover': 1, 'magnet': 3, 'make': 1, 'man': 1, 'may': 2, 'me': 10, 'mind': 2, 'much': 2, 'my': 33, 'new': 6, 'night': 3, 'not': 2, 'now': 11, 'of': 6, 'okay': 1, 'on': 40, 'one': 1, 'our': 1, 'out': 1, 'over': 1, 'place': 1, 'plate': 1, 'play': 1, 'pull': 3, 'push': 3, 'put': 3, 'radio': 1, 'room': 3, 'say': 2, 'shape': 6, 'shots': 1, 'singing': 2, 'slow': 1, 'smell': 3, 'so': 2, 'somebody': 2, 'something': 6, 'sour': 1, 'start': 2, 'stop': 1, 'story': 1, 'sweet': 1, 'table': 1, 'take': 1, 'talk': 4, 'taxi': 1, 'tell': 1, 'that': 2, 'the': 18, 'then': 3, 'thrifty': 1, 'to': 2, 'too': 5, 'trust': 1, 'up': 3, 'van': 1, 'waist': 2, 'want': 2, 'was': 2, 'we': 7, \"we're\": 1, 'week': 1, 'were': 3, 'where': 1, 'with': 22, 'you': 16, 'your': 21}\n"
     ]
    }
   ],
   "source": [
    "# Extraemos las claves\n",
    "keys = list(word_freq.keys())\n",
    "\n",
    "# se ordenan las claves\n",
    "keys.sort()\n",
    "\n",
    "#generamos el nuevo diccionario\n",
    "word_freq2 = {}\n",
    "\n",
    "# bucle para añadir la clave-valor en word_freq2\n",
    "for key in keys:\n",
    "    word_freq2[key] = word_freq[key]\n",
    "\n",
    "# Imprimir el nuevo diccionario ordenado por clave\n",
    "print(\"Diccionario ordenado por clave (word_freq2):\")\n",
    "print(word_freq2)\n"
   ]
  },
  {
   "cell_type": "markdown",
   "metadata": {},
   "source": [
    "#### Ordena los valores de `word_freq` de forma ascendente.\n",
    "\n",
    "Ordenar los valores de un diccionario es más complicado que ordenar las claves porque los valores de un diccionario no son únicos. Por lo tanto, no puedes usar la misma forma en que ordenaste las claves del diccionario para ordenar los valores del diccionario.\n",
    "\n",
    "La forma de ordenar un diccionario por valor es utilizar las funciones `sorted` y `operator.itemgetter`. El siguiente fragmento de código se te proporciona para que lo pruebes. Te dará una lista de tuplas en la que cada tupla contiene la clave y el valor de un elemento del diccionario. Y la lista está ordenada basada en el valor del diccionario ( [referencia](http://thomas-cokelaer.info/blog/2017/12/how-to-sort-a-dictionary-by-values-in-python/)\n",
    ").\n",
    "\n",
    "```python\n",
    "import operator\n",
    "sorted_tups = sorted(word_freq.items(), key=operator.itemgetter(1))\n",
    "print(sorted_tups)\n",
    "```\n",
    "\n",
    "Por lo tanto, los pasos para ordenar `word_freq` por valor son:\n",
    "\n",
    "* Utilizando `sorted` y `operator.itemgetter`, obtén una lista de tuplas de los pares clave-valor del diccionario que está ordenada por el valor.\n",
    "\n",
    "* Crea un diccionario vacío llamado `word_freq2`.\n",
    "\n",
    "* Itera la lista de tuplas. Inserta cada par clave-valor en `word_freq2` como un objeto.\n",
    "\n",
    "Imprime `word_freq2` para confirmar que tu diccionario tiene sus valores ordenados. Tu salida debería ser:\n",
    "\n",
    "```python\n",
    "{'conversation': 1, \"we're\": 1, 'plate': 1, 'sour': 1, 'jukebox': 1, 'taxi': 1, 'fast': 1, 'bag': 1, 'man': 1, 'going': 1, 'one': 1, 'backseat': 1, 'friends': 1, 'take': 1, 'play': 1, 'okay': 1, 'begin': 1, 'over': 1, 'just': 1, 'are': 1, 'tell': 1, 'drinking': 1, 'our': 1, 'where': 1, \"i'll\": 1, 'all': 1, \"isn't\": 1, 'make': 1, 'lover': 1, 'get': 1, 'radio': 1, 'give': 1, 'can': 1, 'club': 1, 'it': 1, 'out': 1, 'chance': 1, 'first': 1, 'table': 1, 'thrifty': 1, 'driver': 1, 'slow': 1, 'dance': 1, 'trust': 1, 'family': 1, 'week': 1, 'date': 1, 'leave': 1, 'at': 1, 'hand': 1, 'how': 1, 'eat': 1, 'about': 1, 'story': 1, 'sweet': 1, 'best': 1, 'let': 1, 'van': 1, 'shots': 1, 'place': 1, 'find': 1, 'kiss': 1, 'stop': 1, 'bar': 1, \"don't\": 2, 'mind': 2, 'know': 2, 'so': 2, 'start': 2, 'boy': 2, 'girl': 2, 'singing': 2, 'doing': 2, 'somebody': 2, 'handmade': 2, 'may': 2, 'that': 2, 'much': 2, 'grab': 2, 'was': 2, 'say': 2, 'waist': 2, 'want': 2, \"let's\": 2, 'not': 2, 'crazy': 2, 'go': 2, 'to': 2, 'fill': 2, 'hours': 2, 'push': 3, 'then': 3, 'put': 3, 'room': 3, 'magnet': 3, 'up': 3, 'pull': 3, 'last': 3, 'do': 3, 'smell': 3, 'although': 3, 'falling': 3, 'were': 3, 'night': 3, 'heart': 3, 'for': 3, 'bedsheets': 3, 'talk': 4, 'too': 5, 'is': 5, 'every': 6, 'new': 6, 'follow': 6, 'brand': 6, 'of': 6, 'i': 6, 'day': 6, 'lead': 6, 'shape': 6, 'discovering': 6, 'something': 6, 'we': 7, 'a': 8, 'like': 10, 'me': 10, 'now': 11, 'baby': 14, 'you': 16, 'be': 16, 'body': 17, 'the': 18, 'your': 21, 'with': 22, \"i'm\": 23, 'and': 23, 'love': 25, 'in': 27, 'my': 33, 'come': 37, 'on': 40}\n",
    "```"
   ]
  },
  {
   "cell_type": "code",
   "execution_count": null,
   "metadata": {},
   "outputs": [],
   "source": [
    "import operator\n",
    "\n",
    "# Ordenamos el diccionario por valores y lo almacenamos en tupla\n",
    "sorted_tups = sorted(word_freq.items(), key=operator.itemgetter(1))\n",
    "print(\"Lista de tuplas ordenadas por valor:\")\n",
    "print(sorted_tups)\n",
    "\n",
    "# creamos nuevo diccionario ya odrenado por valores\n",
    "word_freq2 = {}\n",
    "for key, value in sorted_tups:\n",
    "    word_freq2[key] = value\n",
    "print(\"\\nDiccionario ordenado por valor (word_freq2):\")\n",
    "print(word_freq2)\n"
   ]
  },
  {
   "cell_type": "code",
   "execution_count": null,
   "metadata": {},
   "outputs": [],
   "source": []
  }
 ],
 "metadata": {
  "kernelspec": {
   "display_name": "Python 3 (ipykernel)",
   "language": "python",
   "name": "python3"
  },
  "language_info": {
   "codemirror_mode": {
    "name": "ipython",
    "version": 3
   },
   "file_extension": ".py",
   "mimetype": "text/x-python",
   "name": "python",
   "nbconvert_exporter": "python",
   "pygments_lexer": "ipython3",
   "version": "3.12.8"
  },
  "vscode": {
   "interpreter": {
    "hash": "aee8b7b246df8f9039afb4144a1f6fd8d2ca17a180786b69acc140d282b71a49"
   }
  }
 },
 "nbformat": 4,
 "nbformat_minor": 4
}
